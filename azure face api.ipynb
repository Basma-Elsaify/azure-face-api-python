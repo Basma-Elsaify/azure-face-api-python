{
 "cells": [
  {
   "cell_type": "markdown",
   "id": "spread-program",
   "metadata": {},
   "source": [
    "# Final face emotions detection\n",
    "## this code block runs once"
   ]
  },
  {
   "cell_type": "code",
   "execution_count": 75,
   "id": "informational-story",
   "metadata": {},
   "outputs": [
    {
     "name": "stdout",
     "output_type": "stream",
     "text": [
      "face_client <azure.cognitiveservices.vision.face._face_client.FaceClient object at 0x11338da60>\n"
     ]
    }
   ],
   "source": [
    "import asyncio\n",
    "import io\n",
    "import glob\n",
    "import os\n",
    "import sys\n",
    "import time\n",
    "import uuid\n",
    "import requests\n",
    "from urllib.parse import urlparse\n",
    "from io import BytesIO\n",
    "from PIL import Image, ImageDraw\n",
    "from azure.cognitiveservices.vision.face import FaceClient\n",
    "from msrest.authentication import CognitiveServicesCredentials\n",
    "from azure.cognitiveservices.vision.face.models import TrainingStatusType, Person\n",
    "\n",
    "KEY = \"PASTE_YOUR_FACE_SUBSCRIPTION_KEY_HERE\"\n",
    "ENDPOINT = \"PASTE_YOUR_FACE_ENDPOINT_HERE\"\n",
    "\n",
    "face_client = FaceClient(ENDPOINT, CognitiveServicesCredentials(KEY))\n",
    "\n",
    "print('face_client', face_client)\n",
    "\n",
    "atts = ['age','gender','emotion']\n"
   ]
  },
  {
   "cell_type": "markdown",
   "id": "forced-plaza",
   "metadata": {},
   "source": [
    "# Below are three different ways to read the image:\n",
    "- detect image from URL\n",
    "- detect local image\n",
    "- detect an image on azure blob storage\n",
    "\n",
    "so you should run only one of the following three code blocks\n",
    "\n",
    "## Detect from URL"
   ]
  },
  {
   "cell_type": "code",
   "execution_count": 56,
   "id": "biblical-portal",
   "metadata": {},
   "outputs": [],
   "source": [
    "\n",
    "single_face_image_url = 'https://www.biography.com/.image/t_share/MTQ1MzAyNzYzOTgxNTE0NTEz/john-f-kennedy---mini-biography.jpg'\n",
    "single_image_name = os.path.basename(single_face_image_url)\n",
    "\n",
    "detected_faces = face_client.face.detect_with_url(url=single_face_image_url, detection_model='detection_01', return_face_attributes=atts)\n"
   ]
  },
  {
   "cell_type": "markdown",
   "id": "collective-carrier",
   "metadata": {},
   "source": [
    "## Detect local bytes stream image"
   ]
  },
  {
   "cell_type": "code",
   "execution_count": 67,
   "id": "native-minister",
   "metadata": {},
   "outputs": [
    {
     "name": "stdout",
     "output_type": "stream",
     "text": [
      "image.png\n"
     ]
    }
   ],
   "source": [
    "file_path = 'image.png'\n",
    "img = open(file_path, 'rb')\n",
    "single_image_name = os.path.basename(file_path)\n",
    "\n",
    "print(single_image_name)\n",
    "\n",
    "detected_faces = face_client.face.detect_with_stream(img, detection_model='detection_01', return_face_attributes=atts)\n"
   ]
  },
  {
   "cell_type": "markdown",
   "id": "saved-thing",
   "metadata": {},
   "source": [
    "## Read from azure blob URL"
   ]
  },
  {
   "cell_type": "code",
   "execution_count": 76,
   "id": "controversial-absence",
   "metadata": {},
   "outputs": [],
   "source": [
    "from azure.storage.blob import BlobServiceClient\n",
    "\n",
    "conn_str = 'PASTE_AZURE_BLOB_CONNECTION_STR_HERE'\n",
    "container_name = 'PASTE_CONTAINER_NAME_HERE'\n",
    "\n",
    "blob_service_client = BlobServiceClient.from_connection_string(conn_str)\n",
    "container_client = blob_service_client.get_container_client(container_name)\n",
    "\n",
    "blob_img = container_client.get_blob_client('image_name.jpg')\n",
    "\n",
    "print(blob_img.url)\n",
    "\n",
    "single_face_image_url = blob_img.url\n",
    "single_image_name = os.path.basename(single_face_image_url)\n",
    "\n",
    "detected_faces = face_client.face.detect_with_url(url=single_face_image_url, detection_model='detection_01', return_face_attributes=atts)"
   ]
  },
  {
   "cell_type": "markdown",
   "id": "dated-review",
   "metadata": {},
   "source": [
    "# Display detected faces response attributes \n",
    "## this code block runs once right after reading the image"
   ]
  },
  {
   "cell_type": "code",
   "execution_count": 77,
   "id": "silver-ranking",
   "metadata": {},
   "outputs": [
    {
     "name": "stdout",
     "output_type": "stream",
     "text": [
      "5f59b70c-355e-4cad-a658-4b79f9fdaca4\n",
      "\n",
      "face_attributes.emotion =================>\n",
      "anger:  0.0\n",
      "contempt:  0.002\n",
      "disgust:  0.0\n",
      "fear:  0.0\n",
      "happiness:  0.0\n",
      "neutral:  0.997\n",
      "sadness:  0.001\n",
      "surprise:  0.0\n"
     ]
    }
   ],
   "source": [
    "if not detected_faces:\n",
    "    raise Exception('No face detected from image {}'.format(single_image_name))\n",
    "\n",
    "print('Detected face ID from', single_image_name, ':')\n",
    "for face in detected_faces: print (face.face_id)\n",
    "print()\n",
    "\n",
    "first_image_face_ID = detected_faces[0]\n",
    "\n",
    "print('face_attributes.emotion =================>')\n",
    "print('anger: ',first_image_face_ID.face_attributes.emotion.anger)\n",
    "print('contempt: ',first_image_face_ID.face_attributes.emotion.contempt)\n",
    "print('disgust: ',first_image_face_ID.face_attributes.emotion.disgust)\n",
    "print('fear: ',first_image_face_ID.face_attributes.emotion.fear)\n",
    "print('happiness: ',first_image_face_ID.face_attributes.emotion.happiness)\n",
    "print('neutral: ',first_image_face_ID.face_attributes.emotion.neutral)\n",
    "print('sadness: ',first_image_face_ID.face_attributes.emotion.sadness)\n",
    "print('surprise: ',first_image_face_ID.face_attributes.emotion.surprise)"
   ]
  },
  {
   "cell_type": "code",
   "execution_count": null,
   "id": "surprised-paraguay",
   "metadata": {},
   "outputs": [],
   "source": []
  }
 ],
 "metadata": {
  "kernelspec": {
   "display_name": "Python 3",
   "language": "python",
   "name": "python3"
  },
  "language_info": {
   "codemirror_mode": {
    "name": "ipython",
    "version": 3
   },
   "file_extension": ".py",
   "mimetype": "text/x-python",
   "name": "python",
   "nbconvert_exporter": "python",
   "pygments_lexer": "ipython3",
   "version": "3.8.3"
  }
 },
 "nbformat": 4,
 "nbformat_minor": 5
}

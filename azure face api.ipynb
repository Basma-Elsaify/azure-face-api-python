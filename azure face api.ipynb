{
 "cells": [
  {
   "cell_type": "markdown",
   "id": "applied-formation",
   "metadata": {},
   "source": [
    "# Face emotions detection\n",
    "## this code block runs once"
   ]
  },
  {
   "cell_type": "code",
   "execution_count": 1,
   "id": "baking-links",
   "metadata": {},
   "outputs": [],
   "source": [
    "import asyncio\n",
    "import io\n",
    "import glob\n",
    "import os\n",
    "import sys\n",
    "import time\n",
    "import uuid\n",
    "import requests\n",
    "from urllib.parse import urlparse\n",
    "from io import BytesIO\n",
    "from PIL import Image, ImageDraw\n",
    "from azure.cognitiveservices.vision.face import FaceClient\n",
    "from msrest.authentication import CognitiveServicesCredentials\n",
    "from azure.cognitiveservices.vision.face.models import TrainingStatusType, Person\n",
    "\n",
    "KEY = \"PASTE_YOUR_FACE_SUBSCRIPTION_KEY_HERE\"\n",
    "ENDPOINT = \"PASTE_YOUR_FACE_ENDPOINT_HERE\"\n",
    "\n",
    "face_client = FaceClient(ENDPOINT, CognitiveServicesCredentials(KEY))\n",
    "atts = ['age','gender','emotion']"
   ]
  },
  {
   "cell_type": "markdown",
   "id": "religious-photographer",
   "metadata": {},
   "source": [
    "# Below are three different ways to read the image:\n",
    "- detect image from URL\n",
    "- detect local image\n",
    "- detect an image on azure blob storage\n",
    "\n",
    "so you should run only one of the following three code blocks\n",
    "\n",
    "## Detect from URL"
   ]
  },
  {
   "cell_type": "code",
   "execution_count": 2,
   "id": "egyptian-musical",
   "metadata": {},
   "outputs": [],
   "source": [
    "face_image = 'https://www.biography.com/.image/t_share/MTQ1MzAyNzYzOTgxNTE0NTEz/john-f-kennedy---mini-biography.jpg'\n",
    "\n",
    "detected_faces = face_client.face.detect_with_url(url=face_image, detection_model='detection_01', return_face_attributes=atts)"
   ]
  },
  {
   "cell_type": "markdown",
   "id": "ordinary-invitation",
   "metadata": {},
   "source": [
    "## Detect local bytes stream image"
   ]
  },
  {
   "cell_type": "code",
   "execution_count": 7,
   "id": "usual-anchor",
   "metadata": {},
   "outputs": [],
   "source": [
    "face_image = 'image.jpg'\n",
    "img = open(face_image, 'rb')\n",
    "\n",
    "detected_faces = face_client.face.detect_with_stream(img, detection_model='detection_01', return_face_attributes=atts)"
   ]
  },
  {
   "cell_type": "markdown",
   "id": "urban-shoulder",
   "metadata": {},
   "source": [
    "## Read from azure blob URL"
   ]
  },
  {
   "cell_type": "code",
   "execution_count": 12,
   "id": "offshore-effort",
   "metadata": {},
   "outputs": [],
   "source": [
    "from azure.storage.blob import BlobServiceClient\n",
    "\n",
    "conn_str = 'PASTE_AZURE_BLOB_CONNECTION_STR_HERE'\n",
    "container_name = 'PASTE_CONTAINER_NAME_HERE'\n",
    "\n",
    "blob_service_client = BlobServiceClient.from_connection_string(conn_str)\n",
    "container_client = blob_service_client.get_container_client(container_name)\n",
    "\n",
    "blob_img = container_client.get_blob_client('image_name.jpg')\n",
    "\n",
    "face_image = blob_img.url\n",
    "\n",
    "detected_faces = face_client.face.detect_with_url(url=face_image, detection_model='detection_01', return_face_attributes=atts)"
   ]
  },
  {
   "cell_type": "markdown",
   "id": "dense-prairie",
   "metadata": {},
   "source": [
    "# Display detected faces response attributes \n",
    "## the below code blocks run once right after reading the image\n",
    "### list detected faces ids"
   ]
  },
  {
   "cell_type": "code",
   "execution_count": 9,
   "id": "colored-disability",
   "metadata": {},
   "outputs": [
    {
     "name": "stdout",
     "output_type": "stream",
     "text": [
      "Detected face ID:\n",
      "e2c384b9-7ef6-4968-90c1-c1cfd27dc2e3\n",
      "\n"
     ]
    }
   ],
   "source": [
    "if not detected_faces:\n",
    "    raise Exception('No face detected from image')\n",
    "\n",
    "print('Detected face ID:')\n",
    "for face in detected_faces: print (face.face_id)\n",
    "print()\n",
    "\n",
    "first_image_face = detected_faces[0]"
   ]
  },
  {
   "cell_type": "markdown",
   "id": "clear-project",
   "metadata": {},
   "source": [
    "### Display the emotion with probability higher than 50%"
   ]
  },
  {
   "cell_type": "code",
   "execution_count": 10,
   "id": "awful-threat",
   "metadata": {},
   "outputs": [
    {
     "name": "stdout",
     "output_type": "stream",
     "text": [
      "happiness 0.999\n"
     ]
    }
   ],
   "source": [
    "for attr,val in first_image_face.face_attributes.emotion.as_dict().items():\n",
    "    if val>0.5:\n",
    "        print(attr,val)"
   ]
  },
  {
   "cell_type": "markdown",
   "id": "dressed-tissue",
   "metadata": {},
   "source": [
    "### Display all emotions with its probability"
   ]
  },
  {
   "cell_type": "code",
   "execution_count": 11,
   "id": "demonstrated-colorado",
   "metadata": {},
   "outputs": [
    {
     "name": "stdout",
     "output_type": "stream",
     "text": [
      "face_attributes.emotion =================>\n",
      "anger:  0.0\n",
      "contempt:  0.0\n",
      "disgust:  0.0\n",
      "fear:  0.0\n",
      "happiness:  0.999\n",
      "neutral:  0.001\n",
      "sadness:  0.0\n",
      "surprise:  0.0\n"
     ]
    }
   ],
   "source": [
    "print('face_attributes.emotion =================>')\n",
    "print('anger: ',first_image_face.face_attributes.emotion.anger)\n",
    "print('contempt: ',first_image_face.face_attributes.emotion.contempt)\n",
    "print('disgust: ',first_image_face.face_attributes.emotion.disgust)\n",
    "print('fear: ',first_image_face.face_attributes.emotion.fear)\n",
    "print('happiness: ',first_image_face.face_attributes.emotion.happiness)\n",
    "print('neutral: ',first_image_face.face_attributes.emotion.neutral)\n",
    "print('sadness: ',first_image_face.face_attributes.emotion.sadness)\n",
    "print('surprise: ',first_image_face.face_attributes.emotion.surprise)"
   ]
  }
 ],
 "metadata": {
  "kernelspec": {
   "display_name": "Python 3",
   "language": "python",
   "name": "python3"
  },
  "language_info": {
   "codemirror_mode": {
    "name": "ipython",
    "version": 3
   },
   "file_extension": ".py",
   "mimetype": "text/x-python",
   "name": "python",
   "nbconvert_exporter": "python",
   "pygments_lexer": "ipython3",
   "version": "3.8.3"
  }
 },
 "nbformat": 4,
 "nbformat_minor": 5
}
